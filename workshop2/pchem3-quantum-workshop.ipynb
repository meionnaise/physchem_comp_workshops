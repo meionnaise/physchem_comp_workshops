{
 "cells": [
  {
   "cell_type": "markdown",
   "metadata": {},
   "source": [
    "# Physical Chemistry III: Computational Workshop (Quantum Mechanics)"
   ]
  },
  {
   "cell_type": "markdown",
   "metadata": {},
   "source": [
    "The time-independent Schrödinger equation plays a key role in quantum mechanics. Its solutions are the stationary states (states whose measurable properties do not change with time) and energies of the quantum system. The energies of stationary states are of central importance in physical chemistry, since it is energy differences between stationary states that are probed by spectroscopic methods used in much of chemical analysis.\n",
    "\n",
    "In this workshop, Python programming will be used to solve the time-independent Schrödinger equation in one dimension (1D) numerically using *two* different general techniques, the *finite-difference method* and the *variational method*, to determine the the stationary states and energies of the system.\n",
    "\n",
    "The 1D Schrödinger equation for the *wavefunction* $\\psi(x)$ as a function of *position* $x$ is\n",
    "\\begin{equation}\n",
    "\\hat{H}\\psi(x) = -\\frac{\\hbar^2}{2m}\\frac{\\mathrm{d}^2\\psi(x)}{\\mathrm{d} x^2} + V(x)\\psi(x) = E\\psi(x),\n",
    "\\end{equation}\n",
    "where $\\hat{H}$ is the *Hamiltonian operator*, $V(x)$ is the *potential energy* as a function of $x$, $m$ is the particle *mass*, and $\\hbar = \\frac{h}{2\\pi}$, where $h$ is the *Planck constant*.\n",
    "\n",
    "To simplify the calculations and to avoid manipulating very large or small numbers, *atomic units* (a.u.) will be used. The most relevant atomics units are this workshop are \n",
    "- mass (electron mass): $m_\\mathrm{e}$\n",
    "- charge (elementary charge): $e$\n",
    "- angular momentum (reduced Planck constant): $\\hbar$\n",
    "- length (Bohr radius): $a_0 = \\frac{\\hbar^2}{m_e e^2}$\n",
    "- energy (hartree): $E_\\mathrm{h} = \\frac{\\hbar^2}{m_\\mathrm{e}a_0^2}$\n",
    "\n",
    "In a.u., the 1D Schrödinger equation becomes\n",
    "\\begin{equation}\n",
    "-\\frac{1}{2m}\\frac{\\mathrm{d}^2\\psi(x)}{\\mathrm{d} x^2} + V(x)\\psi(x) = E\\psi(x),\n",
    "\\end{equation}\n",
    "i.e. factors of $\\hbar$ disappear from the original form of the equation. Here, $m$ is in units of $m_\\mathrm{e}$, $x$ in units of $a_0$, $V(x)$ and $E$ in units of $E_\\mathrm{h}$, and $\\psi(x)$ in units of $a_0^{-1/2}$. The units of $\\psi(x)$ come from the relationship between the wavefunction and probability $P(x)$ (in 1D), \n",
    "\\begin{equation}\n",
    "P(x) = \\vert \\psi(x) \\vert^2 \\mathrm{d}x,\n",
    "\\end{equation}\n",
    "which leads to the *normalization condition* (in 1D)\n",
    "\\begin{equation}\n",
    "\\int_{-\\infty}^{\\infty} \\vert \\psi(x) \\vert^2 \\mathrm{d}x = 1.\n",
    "\\end{equation}"
   ]
  },
  {
   "cell_type": "markdown",
   "metadata": {},
   "source": [
    "## Preliminaries"
   ]
  },
  {
   "attachments": {},
   "cell_type": "markdown",
   "metadata": {},
   "source": [
    "Several Python modules and functions are required to solve the problems in this workshop, so the first task is to import the required modules, by \"running\" the next cell. To run a cell in a Jupyter notebook, click inside the cell and either press Ctrl+Enter on the keyboard or click the \"▶\" button at the top of this window. To run a cell in Google Colab, click inside the cell and either press Ctrl+Enter on the keyboard or click the \"▶\" button on the left of the cell.\n",
    "\n",
    "**Run the next cell** to import the required Python modules and functions."
   ]
  },
  {
   "cell_type": "code",
   "execution_count": 1,
   "metadata": {},
   "outputs": [],
   "source": [
    "import math                          # math functions\n",
    "import numpy as np                   # arrays and math functions\n",
    "import matplotlib.pyplot as plt      # plotting\n",
    "from scipy.integrate import simps    # integration using Simpson's rule\n",
    "from scipy.linalg import eigh        # eigenvalue equation solver for Hermitian matrices\n",
    "from scipy.optimize import curve_fit # least-squares curve fitting"
   ]
  },
  {
   "cell_type": "markdown",
   "metadata": {},
   "source": [
    "## Quantum models with exact solutions"
   ]
  },
  {
   "cell_type": "markdown",
   "metadata": {},
   "source": [
    "To investigate approximate numerical solutions to the Schrödinger equation, it is useful to compare with cases in which the Schrödinger equation can be solved exactly. Two 1D model systems that can be solved analytically will be used in this workshop: the *particle-in-a-box* and *harmonic oscillator*."
   ]
  },
  {
   "cell_type": "markdown",
   "metadata": {},
   "source": [
    "### Particle-in-a-box"
   ]
  },
  {
   "cell_type": "markdown",
   "metadata": {},
   "source": [
    "One of the simplest models for which exact analytical solutions to the Schrödinger equation exist is the 1D particle-in-a-box, which is a reasonable model for $\\pi$ electrons in linear conjugated molecules. \n",
    "\n",
    "The potential energy $V(x)$ is zero inside the box of length $a$ (for $0 \\leq x \\leq a$) and is infinite otherwise (for $x < 0$ or $x > a$), as shown below.\n",
    "\n",
    "<div align=\"center\">\n",
    "<img src=\"pb_potential.png\" width=\"400\">\n",
    "</div>\n",
    "\n",
    "The *stationary states* of the 1D particle-in-a-box (which are *eigenstates* or *eigenfunctions* of the Hamiltonian) are\n",
    "\\begin{equation}\n",
    "\\psi_n(x) = \n",
    "\\begin{cases}\n",
    "\\sqrt{\\frac{2}{a}}\\sin\\left(\\frac{n\\pi x}{a}\\right), & 0 \\leq x \\leq a,\\\\\n",
    "0, & \\mathrm{otherwise},\n",
    "\\end{cases}\n",
    "\\end{equation}\n",
    "and the corresponding *energies* (in a.u.) are\n",
    "\\begin{equation}\n",
    "E_n = \\frac{\\pi^2n^2}{2ma^2},\n",
    "\\end{equation}\n",
    "where $n=1,2,\\ldots$ is the *quantum number* specifying the state."
   ]
  },
  {
   "cell_type": "markdown",
   "metadata": {},
   "source": [
    "The next cell defines Python functions that will be used later, which evaluate the particle-in-a-box eigenfunctions and energies as a function of $n$, $m$ and $a$ (in a.u.). \n",
    "\n",
    "**Run the next cell** to define these functions."
   ]
  },
  {
   "cell_type": "code",
   "execution_count": null,
   "metadata": {},
   "outputs": [],
   "source": [
    "def psi_pb(x,a,n):\n",
    "    \"\"\"Returns 1D particle-in-a-box wavefunction at position x \n",
    "    for box length a and quantum number n (box at 0 <= x <= a) \"\"\"\n",
    "    if x >= 0.0 and  x <= a:\n",
    "        psi = math.sqrt(2.0/a)*np.sin(n*np.pi*x/a)\n",
    "    else:\n",
    "        psi = 0.0\n",
    "    return psi\n",
    "\n",
    "def E_pb(a,m,n):\n",
    "    \"\"\"Returns 1D particle-in-a-box energy \n",
    "    for box length a, particle mass m, and quantum number n\"\"\" \n",
    "    return math.pi**2*n**2/(2.0*m*a**2)"
   ]
  },
  {
   "cell_type": "markdown",
   "metadata": {},
   "source": [
    "Let's look at an application of these functions to plot the wavefunctions and calculate and output the energies for the four lowest energy eigenstates for an electron ($m = 1$ in a.u.)  in a box of length $a = 3$ (in a.u.).\n",
    "\n",
    "**Run the next cell**, which contains code to do these calculations."
   ]
  },
  {
   "cell_type": "code",
   "execution_count": null,
   "metadata": {},
   "outputs": [],
   "source": [
    "m = 1.0     # particle mass\n",
    "a = 3.0     # box length\n",
    "xmin = 0.0  # min x value\n",
    "xmax = a    # max x value\n",
    "nx = 100    # number of x values\n",
    "nstates = 4 # number of states to calculate\n",
    "\n",
    "x = np.linspace(xmin,xmax,nx) # define x at nx evenly spaced points between 0 and a\n",
    "\n",
    "# calculate and output energies\n",
    "print(\"Energy =\", [E_pb(a,m,n) for n in range(1,nstates+1)])\n",
    "\n",
    "# plot eigenstates\n",
    "psi = np.vectorize(psi_pb) # vectorize function to evaluate psi(x) for array of x values\n",
    "plt.figure()\n",
    "for n in range(1,nstates+1):\n",
    "    plt.plot(x,psi(x,a,n),label=n) \n",
    "plt.xlabel('position (a.u.)')\n",
    "plt.ylabel('wavefunction (a.u.)')\n",
    "plt.legend()\n",
    "plt.show()"
   ]
  },
  {
   "cell_type": "markdown",
   "metadata": {},
   "source": [
    "### Harmonic oscillator"
   ]
  },
  {
   "cell_type": "markdown",
   "metadata": {},
   "source": [
    "The 1D harmonic oscillator is another simple model for which exact analytical solutions to the Schrödinger equation exist, and is a good model of molecular vibration for low amounts of vibrational excitation. \n",
    "\n",
    "The potential energy $V(x)$ as a function of position $x$ (for molecular vibration $x$ is the displacement from the equilibrium molecular geometry) is\n",
    "\\begin{equation}\n",
    "V(x) = \\frac{1}{2}kx^2,\n",
    "\\end{equation}\n",
    "where $k$ is the *force constant*. The general form of the potential is shown below.\n",
    "\n",
    "<div align=\"center\">\n",
    "<img src=\"ho_potential.png\" width=\"400\">\n",
    "</div>\n",
    "\n",
    "For molecular vibrations, the mass $m$ in the Schrödinger equation given above should be replaced by the *reduced mass* $\\mu$ of the vibration, but for this workshop $m$ will be used.\n",
    "\n",
    "The *stationary states* of the 1D harmonic oscillator are\n",
    "\\begin{equation}\n",
    "\\psi_v(x) =\\frac{1}{\\sqrt{2^v v!}}\\left(\\frac{\\alpha}{\\pi}\\right)^{1/4}H_v(\\alpha^{1/2}x)e^{-\\alpha x^2/2}\n",
    "\\end{equation}\n",
    "and the corresponding *energies* (in a.u.) are\n",
    "\\begin{equation}\n",
    "E_v = \\left(v+\\frac{1}{2}\\right)\\omega_\\mathrm{e},\n",
    "\\end{equation}\n",
    "where $v = 0,1,2,\\ldots$ is the *vibrational quantum number* specifying the state, $\\omega_\\mathrm{e} = \\sqrt{\\frac{k}{m}}$ is the *vibrational angular frequency*, $\\alpha = \\sqrt{km}$ (in a.u.), and $H_v(z)$ is the *Hermite polynomial* of order $v$. "
   ]
  },
  {
   "cell_type": "markdown",
   "metadata": {},
   "source": [
    "The Python Scipy module contains many special functions, including Hermite polynomials. The next cell defines Python functions that will be used later, which use Hermite polynomials from scipy to evaluate the harmonic oscillator eigenfunctions and energies as a function of $v$, $m$ and $k$ (in atomic units). \n",
    "\n",
    "**Run the next cell** to define these functions."
   ]
  },
  {
   "cell_type": "code",
   "execution_count": null,
   "metadata": {},
   "outputs": [],
   "source": [
    "from scipy.special import eval_hermite\n",
    "def psi_ho(x,m,k,v):\n",
    "    \"\"\"Returns 1D harmonic-oscillator wavefunction at position x \n",
    "    for particle mass m, force constant k, and quantum number v\"\"\"\n",
    "    alpha = math.sqrt(k*m)\n",
    "    omega = math.sqrt(k/m) # angular frequency\n",
    "    return (1.0/math.sqrt(2.0**v*math.factorial(v)))*math.pow(alpha/math.pi,0.25) \\\n",
    "            *eval_hermite(v,math.sqrt(alpha)*x)*np.exp(-0.5*alpha*x**2)\n",
    "\n",
    "def E_ho(m,k,v):\n",
    "    \"\"\"Returns 1D harmonic-oscillator  energy \n",
    "    for particle mass m, force constant k, and quantum number v\"\"\"\n",
    "    omega = math.sqrt(k/m) # angular frequency\n",
    "    return (v+0.5)*omega"
   ]
  },
  {
   "cell_type": "markdown",
   "metadata": {},
   "source": [
    "**Question 1:**\n",
    "- Using the code above for the particle-in-a-box as a template, in the next cell plot the eigenfunctions and calculate and output the energies for the three lowest energy eigenstates for an electron in a harmonic potential with force constant $k = 5$ (in a.u.). You will need to choose an appropriate range of values of the position $x$ in your plot."
   ]
  },
  {
   "cell_type": "markdown",
   "metadata": {},
   "source": [
    "**Answer 1 (code):**"
   ]
  },
  {
   "cell_type": "code",
   "execution_count": null,
   "metadata": {},
   "outputs": [],
   "source": []
  },
  {
   "cell_type": "markdown",
   "metadata": {},
   "source": [
    "## Finite-difference method"
   ]
  },
  {
   "cell_type": "markdown",
   "metadata": {},
   "source": [
    "The Schrödinger equation cannot be solved exactly for most quantum systems. The *finited-difference method (FDM)* is a method for solving differential equations such as the Schrödinger equation by approximating derivatives by finite differences between discrete points. This allows the differential equation to be represented as a set of algebraic equations that can be solved using matrix algebra.\n",
    "\n",
    "The first derivative of a function $f(x)$ can be approximated at position $x$ using a finite difference between two neighbouring points separated by a distance $\\Delta x$ as\n",
    "\\begin{equation}\n",
    "\\frac{\\mathrm{d}f(x)}{\\mathrm{d}x} \\approx \\frac{f\\left(x+\\frac{1}{2}\\Delta x\\right) - f\\left(x-\\frac{1}{2}\\Delta x\\right) }{\\Delta x},\n",
    "\\end{equation}\n",
    "with the approximation becoming exact in the limit that the gride spacing $\\Delta x \\rightarrow 0$. The second derivative is obtained by applying this approximation a second time to each term in the previous equation to give\n",
    "\\begin{equation}\n",
    "\\frac{\\mathrm{d}^2f(x)}{\\mathrm{d}x^2} \\approx \\frac{f\\left(x+\\Delta x\\right) - 2f\\left(x\\right) +f\\left(x-\\Delta x\\right) }{\\left(\\Delta x\\right)^2}.\n",
    "\\end{equation}\n",
    "\n",
    "Thus, if the position $x$ in 1D is defined at $N$ evenly spaced points $x_i$, where $i = 1, 2, \\ldots, N$, the second derivative of the wavefunction $\\psi({x}_i)$ in the Schrödinger equation at position $x_i$ can be approximated as\n",
    "\\begin{equation}\n",
    "\\frac{\\mathrm{d}^2\\psi({x}_i)}{\\mathrm{d}x^2} \\approx \\frac{\\psi\\left(x_i+\\Delta x\\right) - 2\\psi\\left(x_i\\right) +\\psi\\left(x_i-\\Delta x\\right) }{\\left(\\Delta x\\right)^2} \n",
    "= \\frac{\\psi\\left(x_{i+1}\\right) - 2\\psi\\left(x_i\\right) +\\psi\\left(x_{i-1}\\right)}{\\left(\\Delta x\\right)^2},\n",
    "\\end{equation}\n",
    "where the second equality uses the fact that the spacing between adjacent pairs of points is $\\Delta x$.\n",
    "\n",
    "Inserting this equation for the second derivative into the Schrödinger equation (in a.u.) gives\n",
    "\\begin{equation}\n",
    "-\\frac{1}{2m}\\left(\\frac{\\psi\\left(x_{i+1}\\right) - 2\\psi\\left(x_i\\right) +\\psi\\left(x_{i-1}\\right)}{\\left(\\Delta x\\right)^2} \\right) + V(x_i)\\psi(x_i) = E\\psi(x_i).\n",
    "\\end{equation}\n",
    "Using the shorthand $\\psi_i \\equiv \\psi(x_i)$, $V_i \\equiv V(x_i)$, and $t\\equiv \\frac{1}{2m\\left(\\Delta x\\right)^2}$ simplifies this equation to\n",
    "\\begin{equation}\n",
    "-t\\psi_{i-1} + (2t + V_i)\\psi_i - t\\psi_{i+1} = E\\psi_i.\n",
    "\\end{equation}\n",
    "This equation is not well-defined at the first ($i = 1$) or last ($i = N$) points, so an assumption must be made about these boundary values for $\\psi$. We will assume that $\\psi_1 = \\psi_N = 0$. For a *bound system* (one in which the particle is confined to a finite region of space), it is always possible to choose $x_1$ and $x_N$ far enough away from where the particle can exist so that this assumption is accurate.\n",
    "\n",
    "The algebraic equation above for $\\psi_i$ along with the conditions $\\psi_1 = \\psi_N = 0$ can be summarized in matrix form as\n",
    "\\begin{equation}\n",
    "\\begin{bmatrix}\n",
    "2t + V_1 & -t       & 0        & 0        &  0     & \\cdots & \\cdots \\\\\n",
    " -t      & 2t + V_2 & -t       & 0        &  0     & \\cdots & \\cdots \\\\\n",
    "  0      & -t       & 2t + V_3 & -t       &  0     & \\cdots & \\cdots \\\\\n",
    "  0      & 0        & -t       & -t + V_4 & -t     & \\cdots & \\cdots \\\\\n",
    "\\vdots   & \\vdots   & \\vdots   & \\vdots   & \\vdots & \\vdots & \\vdots \\\\\n",
    "  0      & 0        & 0        & 0        &        &  -t    & 2t + V_N  \\\\\n",
    "\\end{bmatrix}\n",
    "\\begin{bmatrix}\n",
    "\\psi_1\\\\\n",
    "\\psi_2\\\\\n",
    "\\psi_3\\\\\n",
    "\\psi_4\\\\\n",
    "\\vdots\\\\\n",
    "\\psi_N\n",
    "\\end{bmatrix}\n",
    "=E\n",
    "\\begin{bmatrix}\n",
    "\\psi_1\\\\\n",
    "\\psi_2\\\\\n",
    "\\psi_3\\\\\n",
    "\\psi_4\\\\\n",
    "\\vdots\\\\\n",
    "\\psi_N\n",
    "\\end{bmatrix}\n",
    "\\end{equation}\n",
    "This equation is an *eigenvalue equation* and can be written in shorthand as \n",
    "\\begin{equation}\n",
    "\\mathbf{H}\\vec{\\psi} = E\\vec{\\psi},\n",
    "\\end{equation}\n",
    "where $\\vec{\\psi}$ is the vector of wavefunction values evaluated at positions $x_i$ for $i=1,2,\\ldots,N$, and $\\mathbf{H}$ is the *Hamiltonian matrix*, which has elements\n",
    "\\begin{equation}\n",
    "H_{ij} = -t\\delta_{i(j-1)} + (2t + V_i)\\delta_{ij} - t\\delta_{i(j+1)}, \n",
    "\\end{equation}\n",
    "where $\\delta_{ij}$ is the *Kronecker delta*.\n",
    "\n",
    "Once the Hamiltonian matrix $\\mathbf{H}$ is defined for the system of interest, using the potential energy $V_i$ at each position $x_i$, the eigenvalue equation can be solved to obtain the stationary states and energies of the system as the eigenfunctions and eigenvalues, respectively. Note that since $\\mathbf{H}$ is an $N\\times N$ matrix, the solution will consist of $N$ eigenfunctions and $N$ eigenvalues.\n",
    "\n",
    "The `eigh` function in Scipy will be used to solve the eigenvalue equation. This function does not account for the grid spacing $\\Delta x$ in the normalization of the eigenfunctions, so to obtain normalized wavefunctions the eigenfunctions produced by `eigh` must be divided by $\\sqrt{\\Delta x}$."
   ]
  },
  {
   "cell_type": "markdown",
   "metadata": {},
   "source": [
    "The next cell defines a function to calculate the Hamiltonian matrix in the finite-difference method given minimum and maximum $x$ values, the number of $x$ values, the particle mass $m$ and the potential energy $V(x)$.\n",
    "\n",
    "**Run the next cell** to define this function."
   ]
  },
  {
   "cell_type": "code",
   "execution_count": null,
   "metadata": {},
   "outputs": [],
   "source": [
    "def Hmat_fd(x,V,m):\n",
    "    \"\"\"Returns Hamiltonian matrix for finite-difference method given 1D array \n",
    "    of positions x, potential energy function V(x), and particle mass m\"\"\"\n",
    "    dx = x[1] - x[0]          # grid spacing\n",
    "    t = 1.0/(2.0*m*dx*dx)     # constant for kinetic energy term\n",
    "    Vx = np.diag(V(x))        # diagonal matrix with elements V(x_i)\n",
    "    Tx = 2.0*t*np.identity(N) # matrix with diagonal kinetic energy terms\n",
    "    # add off-diagonal terms to kinetic energy matrix\n",
    "    for i in range(1,N):     \n",
    "        Tx[i,i-1] = Tx[i-1,i] = -t\n",
    "    H = Tx + Vx  # combine kinetic and potential energy terms\n",
    "    return H"
   ]
  },
  {
   "cell_type": "markdown",
   "metadata": {},
   "source": [
    "### Particle-in-a-box"
   ]
  },
  {
   "cell_type": "markdown",
   "metadata": {},
   "source": [
    "As a first application of the finite-difference method, we will use it to solve the Schrödinger equation for the 1D particle-in-a-box. Since $\\psi(x) = 0$ outside the box (where the potential energy $V(x)$ is infinite) and the finite-difference method assumes that $\\psi(x)$ goes to zero at the boundary positions $x_1$ and $x_N$, these boundaries can be taken as the two ends of the box. So the matrix equation only needs to be solved for values of $\\psi(x)$ inside the box, where the potential energy $V(x) = 0$.\n",
    "\n",
    "The code in the next cell solves the Schrödinger equation using the finite-difference method for an electron ($m = 1$) in a 1D box of length $a = 3$ using $N = 50$ points inside the box and plots the wavefunctions and output the energies for the four lowest energy eigenstates.   \n",
    "\n",
    "**Run the next cell** to calculate the eigenstates and energies."
   ]
  },
  {
   "cell_type": "code",
   "execution_count": null,
   "metadata": {},
   "outputs": [],
   "source": [
    "m = 1.0     # particle mass\n",
    "a = 3.0     # box length\n",
    "xmin = 0.0  # min x value\n",
    "xmax = a    # max x value\n",
    "N = 50      # number of x values \n",
    "nstates= 4  # number of eigenstates/energies to output\n",
    "\n",
    "# define particle-in-a-box potential energy function inside box\n",
    "def V_pb(x):\n",
    "     return 0.0*x\n",
    "\n",
    "x = np.linspace(xmin,xmax,N) # x at N evenly spaced points between xmin and xmax\n",
    "dx = x[1] - x[0]             # grid spacing\n",
    "\n",
    "H = Hmat_fd(x,V_pb,m)   # Hamiltonian matrix\n",
    "\n",
    "E,psi = eigh(H)        # solve for eigenvalues E and eigenfunctions psi \n",
    "                       # (i,j element of NxN psi matrix is psi_j(x_i))\n",
    "psi = psi/math.sqrt(dx)         # normalize eigenfunctions\n",
    "print(\"Energy = \", E[:nstates]) # print energy for lowest nstates states\n",
    "\n",
    "# plot eigenfunctions for lowest nstates states\n",
    "plt.figure()\n",
    "for i in range(nstates):\n",
    "    plt.plot(x,psi[:,i],label=i+1)\n",
    "plt.xlabel('position (a.u.)')\n",
    "plt.ylabel('wavefunction or energy (a.u.)')\n",
    "plt.legend()\n",
    "plt.show()"
   ]
  },
  {
   "cell_type": "markdown",
   "metadata": {},
   "source": [
    "The expectation (average) value of an observable $f(x)$ corresponding to the operator $\\hat{f}(x)$ for a particle in a state with wavefunction $\\psi(x)$ is given by\n",
    "\\begin{equation}\n",
    "\\langle f(x) \\rangle = \\frac{\\int \\psi^*(x)\\hat{f}(x)\\psi(x) \\,\\mathrm{d} x}{\\int \\psi^*(x)\\psi(x) \\mathrm{d} x}.\n",
    "\\end{equation}\n",
    "Here, \"$^*$\" denotes the complex conjugate, but all the wavefunctions in this workshop are real, so $\\psi^*(x) = \\psi(x)$. \n",
    "\n",
    "The code in the following cell calculates the variance of the position $x$, $\\langle x^2 \\rangle - \\langle x\\rangle^2$ of the particle-in-a-box for $m=1$ and $a=2$ in its ground state, using the ground-state wavefunction calculated in the previous cell. The Scipy function `simps`, which does 1D integration using Simpson's rule, is used for the integration in the expectation value. The operators corresponding to the observables $x$ and $x^2$ are simply $x$ and $x^2$, respectively.\n",
    "\n",
    "**Run the next cell** to estimate the variance of the position of the particle-in-a-box in its ground state."
   ]
  },
  {
   "cell_type": "code",
   "execution_count": null,
   "metadata": {},
   "outputs": [],
   "source": [
    "norm = simps(psi[:,0]*psi[:,0],x) \n",
    "xsq_av = simps(psi[:,0]*x**2*psi[:,0],x)/norm\n",
    "x_av = simps(psi[:,0]*x*psi[:,0],x)/norm\n",
    "variance = xsq_av - x_av**2\n",
    "\n",
    "print(\"variance of position =\", variance)"
   ]
  },
  {
   "cell_type": "markdown",
   "metadata": {},
   "source": [
    "**Question 2:**\n",
    "- Compare the energies for the 4 lowest energy eigenstates calculated by the finite-difference method with the exact particle-in-a-box energies.\n",
    "- Using the code above applying the finite-difference method to calculate the eigenstates and energies of the particle-in-a-box as a template, in the next cell study the effect of increasing the number of grid points, $N$, used in the finite-difference method and determine the value of $N$ required to reduce the error in the energy relative to the exact energy below 1%. (In your submitted answers, just give results for the final value of $N$).\n",
    "- Plot the exact and approximate particle-in-a-box wavefunctions for for $n =$ 1 to 4, where $n$ is the quantum number, on the same graph in the next cell. on the same graph in the next cell. Do they agree? (Note that you may need to multiply some of the wavefunctions by -1 to compare. You can use the `np.sign` function to do this.) Use different line styles to distinguish the approximate and exact wavefunctions. To reset the colour cycle for the curves between plotting the approximate and exact wavefunctions use the command `plt.gca().set_prop_cycle(None)`.\n",
    "\n",
    "Give text answers in the following cell. Make sure that the cell is a \"Markdown\" cell using the drop-down menu at the top of the page."
   ]
  },
  {
   "cell_type": "markdown",
   "metadata": {},
   "source": [
    "**Answer 2 (code):**"
   ]
  },
  {
   "cell_type": "code",
   "execution_count": null,
   "metadata": {},
   "outputs": [],
   "source": []
  },
  {
   "cell_type": "markdown",
   "metadata": {},
   "source": [
    "**Answer 2 (text):**"
   ]
  },
  {
   "cell_type": "markdown",
   "metadata": {},
   "source": []
  },
  {
   "cell_type": "markdown",
   "metadata": {},
   "source": [
    "### Double-well potential"
   ]
  },
  {
   "cell_type": "markdown",
   "metadata": {},
   "source": [
    "The double-well potential is an example of a quantum system for which no analytical solution of the Schrödinger equation exists. So the Schrödinger equation must be solved numerically. The double-well potential is a useful model for the quantum states of real systems, such as the umbrella inversion of the ammonia molecule. The potential energy of a symmetric double well as a function of the displacement $x$ from equilibrium can be written as \n",
    "\\begin{equation}\n",
    "V(x) = \\frac{b^2}{4d} - bx^2 + dx^4,\n",
    "\\end{equation}\n",
    "where $b > 0$ and $d > 0$ are constants that determine the steepness of the potential and the height of the central barrier. The constant term in the potential makes the minimum value of the potential zero (at $x = \\pm\\sqrt{\\frac{b}{2d}}$). The barrier is at $x = 0$ and has a height of $\\frac{b^2}{4d}$.  \n",
    "\n",
    "The next cell defines a Python function that evaluates the symmetric double-well potential as a function of $x$, $b$ and $d$ (in a.u.). \n",
    "\n",
    "**Run the next cell** to define this function."
   ]
  },
  {
   "cell_type": "code",
   "execution_count": null,
   "metadata": {},
   "outputs": [],
   "source": [
    "def V_double_well(x,b,d):\n",
    "    \"\"\"Returns symmetric double-well potential at position x defined by \n",
    "       V(x) = b^2/4d - b*x^2 + d*x^4 \"\"\"\n",
    "    return b**2/(4*d) - b*x**2 + d*x**4"
   ]
  },
  {
   "cell_type": "markdown",
   "metadata": {},
   "source": [
    "Let's use this function to plot the symmetric double-well potential as a function of position $x$ for $b = 3$ and $d = 0.15$ (in a.u.).\n",
    "\n",
    "**Run the next cell**, which contains code to do this calculation."
   ]
  },
  {
   "cell_type": "code",
   "execution_count": null,
   "metadata": {},
   "outputs": [],
   "source": [
    "b = 3.0      # quadratic term coefficient\n",
    "d = 0.15      # quartic term coefficient\n",
    "a = 6.0      # x limits in +/- directions\n",
    "xmin = -a    # min x value\n",
    "xmax = a     # max x value\n",
    "N = 100      # number of x values \n",
    "Vmax = 20.0  # max V value to plot\n",
    "\n",
    "x = np.linspace(xmin,xmax,N) # define x at evenly spaced points from xmin to xmax\n",
    "\n",
    "# plot potential vs x\n",
    "plt.figure()\n",
    "for n in range(1,nstates+1):\n",
    "    plt.plot(x,V_double_well(x,b,d)) \n",
    "plt.xlabel('$x$ (a.u.)')\n",
    "plt.ylabel('$V(x)$ (a.u.)')\n",
    "plt.ylim(0,Vmax)\n",
    "plt.show()"
   ]
  },
  {
   "cell_type": "markdown",
   "metadata": {},
   "source": [
    "**Question 3:**\n",
    "- Using the code above for the particle-in-a-box as a template, write code in the next cell to calculate the energies and plot the wavefunctions of the symmetric double-well system  with $m=1$, $b = 3$, and $d = 0.15$ (in a.u.) using the finite-difference method. Note that the double-well potential wavefunctions do not go abruptly to zero anywhere, so you will need to choose a sufficiently wide range of $x$ values to calculate the wavefunctions accurately. (Make sure the wavefunction goes to zero well within the limits of the $x$ values used.) Make sure also to choose the number of grid points, $N$, large enough to converge the energies (i.e. such that the energies change by $<$1% if the number of grid points is doubled to $2N$). Since the `Hmat_fd` function only takes a potential energy function of one variable $x$ as an argument use a `lambda` (\"anonymous\") function to pass other parameters to the potential energy function, e.g. if the potential energy function is `V(x,a,b)`, use `H = Hmat_fd(x,lambda x: V(x,a,b),m)`.\n",
    "- Output the energies for the 20 lowest energy eigenstates and plot the energies as a function of quantum number $n$ (state number).\n",
    "- Plot the wavefunctions for the two lowest energy eigenstates and for the $n=20$ eigenstate (which has an energy significantly higher than central barrier in the potential)\n",
    "- How many grid points $N$ and what range of $x$ values are required to converge the energies and eigenstates?\n",
    "- Discuss the pattern of energies versus quantum number below and above the energy of the central barrier with reference to the plotted wavefunctions.\n",
    "\n",
    "Give text answers in the following cell. Make sure that the cell is a \"Markdown\" cell using the drop-down menu at the top of the page."
   ]
  },
  {
   "cell_type": "markdown",
   "metadata": {},
   "source": [
    "**Answer 3 (code):**"
   ]
  },
  {
   "cell_type": "code",
   "execution_count": null,
   "metadata": {},
   "outputs": [],
   "source": []
  },
  {
   "cell_type": "markdown",
   "metadata": {},
   "source": [
    "**Answer 3 (text):**"
   ]
  },
  {
   "cell_type": "markdown",
   "metadata": {},
   "source": []
  },
  {
   "cell_type": "markdown",
   "metadata": {},
   "source": [
    "**Question 4:**\n",
    "- Using your finite-difference results, calculate the expectation (average) value of the potential energy (in a.u.) of the symmetric double-well system  with $m=1$, $b = 3$, and $d = 0.15$ (in a.u.) in its ground state. (The operator corresponding to the potential energy is the potential energy $V(x)$. Use the code used to calculate the expectation value of the position of the particle-in-a-box as a template.)"
   ]
  },
  {
   "cell_type": "markdown",
   "metadata": {},
   "source": [
    "**Answer 4 (code):**"
   ]
  },
  {
   "cell_type": "code",
   "execution_count": null,
   "metadata": {},
   "outputs": [],
   "source": []
  },
  {
   "cell_type": "markdown",
   "metadata": {},
   "source": [
    "## Variational method"
   ]
  },
  {
   "cell_type": "markdown",
   "metadata": {},
   "source": [
    "The variational method provides a means to estimate the *ground-state wavefunction* $\\psi_\\mathrm{g}$ and *energy* $E_\\mathrm{g}$ based on the *variational principle*, which shows that the *expectation value of the energy* (i.e. the average energy) for *any approximate (trial) wavefunction* $\\phi(x)$ (here in 1D),\n",
    "\\begin{equation}\n",
    "E = \\langle E \\rangle_{\\phi} = \\frac{\\int \\phi^*(x)\\hat{H}\\phi(x) \\,\\mathrm{d} x}{\\int \\phi^*(x)\\phi(x) \\mathrm{d} x}\\,\\,,\n",
    "\\end{equation}\n",
    "can never be smaller than the ground-state energy, i.e.\n",
    "\\begin{equation}\n",
    "E \\geq E_\\mathrm{g}\\,.\n",
    "\\end{equation}\n",
    "Thus, the variational method finds the optimal estimate of the wavefunction and energy by minimizing the energy expectation value $E$ with respect to the set of $N$ parameters $c_{n}$, $n = 1,2,\\ldots,N$, that define the approximate wavefunction $\\phi$. "
   ]
  },
  {
   "cell_type": "markdown",
   "metadata": {},
   "source": [
    "For the case of an approximate wavefunction $\\phi$ that depends linearly on the parameters $c_{i}$, i.e. (in 1D)\n",
    "\\begin{equation}\n",
    "\\phi(x) = \\sum_{i=1}^N c_{n} f_n(x),\n",
    "\\end{equation}\n",
    "where $f_n(x)$, $n = 1, 2,\\ldots,N$ are known functions (called *basis functions*), it can be shown that minimizing $E$ corresponding to solving the matrix equation\n",
    "\\begin{equation}\n",
    "\\begin{bmatrix}\n",
    "H_{11} - ES_{11} & H_{12} - ES_{12} & \\cdots & H_{1N} - ES_{1N}\\\\\n",
    "H_{21} - ES_{21} & H_{22} - ES_{22} & \\cdots & H_{2N} - ES_{2N}\\\\\n",
    "\\vdots           & \\vdots           &        & \\vdots          \\\\\n",
    "H_{N1} - ES_{N1} & H_{N2} - ES_{N2} & \\cdots & H_{NN} - ES_{NN}\\\\\n",
    "\\end{bmatrix}\n",
    "\\begin{bmatrix}\n",
    "c_{1}\\\\\n",
    "c_{2}\\\\\n",
    "\\vdots\\\\\n",
    "c_{N}\n",
    "\\end{bmatrix}\n",
    "=0\\,,\n",
    "\\end{equation}\n",
    "where (in 1D) the Hamiltonian matrix elements are\n",
    "\\begin{equation}\n",
    "H_{ij} \\equiv \\int_{-\\infty}^{\\infty} f_i^*(x) \\hat{H} f_j(x)\\,\\mathrm{d}x\n",
    "\\end{equation}\n",
    "and the overlap matrix elements are\n",
    "\\begin{equation}\n",
    "S_{ij} \\equiv \\int_{-\\infty}^{\\infty} f_i^*(x) f_j(x)\\,\\mathrm{d}x.\n",
    "\\end{equation}\n",
    "If the basis functions are *orthonormal*, then\n",
    "\\begin{equation}\n",
    "S_{ij} = \\delta_{ij} = \n",
    "\\begin{cases}\n",
    "1, & f_i = f_j\\\\\n",
    "0, & f_i \\neq f_j\n",
    "\\end{cases}\n",
    "\\end{equation}\n",
    "\n",
    "The above matrix equation can be written in shorthand form as\n",
    "\\begin{equation}\n",
    "\\mathbf{H}\\vec{c} - E\\mathbf{S}\\vec{c}= 0 \\quad \\Rightarrow \\quad \\mathbf{H}\\vec{c} = E\\mathbf{S}\\vec{c},\n",
    "\\end{equation}\n",
    "where $\\mathbf{H}$ is the *Hamiltonian matrix* (whose elements are defined above), $\\mathbf{S}$ is the *overlap matrix* (whose elements are defined above), and $\\vec{c}$ is the *vector of basis function coefficents (parameters)* for the optimized state $\\phi$ with energy $E$. \n",
    "\n",
    "$\\mathbf{H}$ and $\\mathbf{S}$ are *Hermitian* matrices, which means that $H_{ji}^* = H_{ij}$ and $S_{ji}^* = S_{ij}$. This type of matrix equation is a *generalized eigenvalue equation* and the solutions for $E$ and $\\vec{c}$ are generalized eigenvalues and eigenvectors, respectively, with $N$ eigenvalues and eigenvectors produced for a trial wavefunction that is a linear combination of $N$ basis functions. The *lowest* eigenvalue and corresponding eigenvector correspond to the best estimate for the ground-state energy and wavefunction, respectively, of the quantum system.\n",
    "\n",
    "If the basis functions are *orthonormal*, the overlap matrix is equal to the identity matrix, i.e. $\\mathbf{S} = \\mathbf{I}$, and the generalized eigenvalue equation above reduces to a standard eigenvalue equation,\n",
    "\\begin{equation}\n",
    "\\mathbf{H}\\vec{c} = E\\vec{c},\n",
    "\\end{equation} "
   ]
  },
  {
   "cell_type": "markdown",
   "metadata": {},
   "source": [
    "The next two cells define functions to calculate the Hamiltonian matrix and overlap matrix given a 1D array of $x$ values where the position of the particle is defined, a 2D array containing the basis functions $f_n(x)$, $n=1,2,\\ldots,N$, the mass of the particle $m$ and the potential energy $V(x)$.\n",
    "\n",
    "**Run the next cell** to define these functions."
   ]
  },
  {
   "cell_type": "code",
   "execution_count": null,
   "metadata": {},
   "outputs": [],
   "source": [
    "def Hmat_vm(x,basis,V,m):\n",
    "    \"\"\"Returns Hamiltonian matrix for variational method given 1D array \n",
    "    of positions x, 2D array of basis functions (i,j element is value\n",
    "    of j-th basis function at x_i), 1D array of potential energy at\n",
    "    each position x, and particle mass m\"\"\"\n",
    "    N = len(basis[0])       # number of basis functions\n",
    "    H = np.zeros((N,N))     # create empty Hamiltonian matrix\n",
    "    # loop over elements in Hamiltonian matrix\n",
    "    for i in range(N):\n",
    "        f_i = basis[:,i]  # basis function f_i(x)\n",
    "        for j in range(N):\n",
    "            f_j = basis[:,j] # basis function f_j(x)\n",
    "            f_j_deriv2 = np.gradient(np.gradient(f_j,x,edge_order=2),x,edge_order=2) # 2nd derivative of f_j\n",
    "            Hij_integrand = f_i*((-0.5/m)*f_j_deriv2 + V*f_j) # f_i(x)H(x)f_j(x)\n",
    "            H[i,j] = simps(Hij_integrand,x) # integrate f_i(x)H(x)f_j(x) over x\n",
    "    return H\n",
    "\n",
    "def Smat_vm(x,basis):\n",
    "    \"\"\"Returns overlap matrix for variational method given 1D array \n",
    "    of positions x and 2D array of basis functions \n",
    "    (i,j element is value of j-th basis function at x_i)\"\"\"\n",
    "    N = len(basis[0])      # number of basis functions\n",
    "    S = np.zeros((N,N)) # create empty overlap matrix\n",
    "    # loop over elements in overlap matrix\n",
    "    for i in range(N):\n",
    "        f_i = basis[:,i] # basis function f_i(x)\n",
    "        for j in range(N):\n",
    "            f_j = basis[:,j] # basis function f_j(x)\n",
    "            Sij_integrand = f_i*f_j      # f_i(x)f_j(x)\n",
    "            S[i,j] = simps(Sij_integrand,x) # integrate f_i(x)f_j(x) over x\n",
    "    return S"
   ]
  },
  {
   "cell_type": "markdown",
   "metadata": {},
   "source": [
    "### Variational method for non-orthonormal basis functions"
   ]
  },
  {
   "cell_type": "markdown",
   "metadata": {},
   "source": [
    "In the next example, the variational method will be used with *non-orthonormal* basis functions, which involves solving the *generalized eigenvalue equation* given above.\n",
    "\n",
    "Specifically, a *trial wavefunction* $\\phi$ that is a linear combination of *polynomial basis functions*,\n",
    "\\begin{equation}\n",
    "f_n \\propto \n",
    "\\begin{cases}\n",
    "x^n(a-x)^n, &0 \\leq x \\leq a\\\\\n",
    "0, &\\mathrm{otherwise}\n",
    "\\end{cases}, \n",
    "\\end{equation}\n",
    "where $n = 1,2,\\ldots, N$, will be used. The basis functions will be *normalized* such that\n",
    "\\begin{equation}\n",
    "\\int_{-\\infty}^{\\infty} \\left[f_n(x)\\right]^2 \\,\\mathrm{d}x = 1.\n",
    "\\end{equation}\n",
    "This set of basis functions is defined (in a.u.) by the Python function in the next cell. \n",
    "\n",
    "**Run the next cell** to define the basis set."
   ]
  },
  {
   "cell_type": "code",
   "execution_count": null,
   "metadata": {},
   "outputs": [],
   "source": [
    "def poly_basis(x,N,a):\n",
    "    \"\"\"Returns set of normalized basis functions proportional to x^n(a-x)^n,  \n",
    "    n = 1,2,...,N, for x values in the 1D array x, as a 2D array with \n",
    "    different basis functions in columns and different x values in rows.\"\"\"\n",
    "    for n in range(1,N+1):\n",
    "        fn = np.array([math.pow(xi*(a-xi),n) for xi in x]) # n-th basis function vs x\n",
    "        norm = simps(fn*fn,x)       # normalization constant for basis function\n",
    "        fn = fn/math.sqrt(norm)     # normalize basis function\n",
    "        if n == 1:\n",
    "            basis_fns = fn\n",
    "        else:\n",
    "            basis_fns = np.vstack((basis_fns,fn)) # stack basis functions vs x in rows of 2D array\n",
    "    return basis_fns.T   # return transpose of matrix so basis function are in columns"
   ]
  },
  {
   "cell_type": "markdown",
   "metadata": {},
   "source": [
    "#### Particle-in-a-box"
   ]
  },
  {
   "cell_type": "markdown",
   "metadata": {},
   "source": [
    "As a first application, we will use the variational method with the polynomial basis set just defined to estimate the *ground-state energy* and *wavefunction* of the 1D particle-in-a-box.\n",
    "\n",
    "The code in the next cell solves the Schrödinger equation using the variational method for an electron ($m=1$) in a 1D box of length $a=3$ (in a.u.) using $N=2$\n",
    "basis functions and $n_x = 500$ grid points between $x = 0$ and $x = a$ (Note that $x$ only needs to be defined inside the box because the basis functions are zero outside the box). The code plots the basis functions and ground-state wavefunction, outputs the Hamiltonian matrix, overlap matrix, and ground-state energy, and compares the approximate wavefunction and energy with the exact particle-in-a-box ground-state wavefunction and energy.\n",
    "\n",
    "**Run the next cell** to calculate the ground-state wavefunction and energy of the 1D particle-in-a-box with the variational method."
   ]
  },
  {
   "cell_type": "code",
   "execution_count": null,
   "metadata": {},
   "outputs": [],
   "source": [
    "a = 3.0    # box length\n",
    "m = 1.0    # particle mass\n",
    "xmin = 0.0   # min x value\n",
    "xmax = a     # max x value\n",
    "N = 2      # number of basis functions\n",
    "nx = 500   # number of x values\n",
    "\n",
    "x = np.linspace(xmin,xmax,nx)   # define x at nx evenly spaced points between 0 and a\n",
    "basis = poly_basis(x,N,a) # define basis functions at each position x\n",
    "\n",
    "# plot basis functions\n",
    "plt.figure()\n",
    "for n in range(N):\n",
    "    plt.plot(x,basis[:,n],label=n+1)\n",
    "plt.xlabel('position (a.u.)')\n",
    "plt.ylabel('basis function (a.u.)')\n",
    "plt.legend()\n",
    "plt.show()\n",
    "\n",
    "V = np.zeros(nx)         # particle-in-a-box potential (zero) at each position x inside box\n",
    "H = Hmat_vm(x,basis,V,m) # Hamiltonian matrix\n",
    "S = Smat_vm(x,basis)     # overlap matrix\n",
    "print(\"H =\", H)          # print Hamiltonian matrix\n",
    "print(\"S =\", S)          # print overlap matrix\n",
    "\n",
    "E,c = eigh(H,S)          # solve generalized eigenvalue equation for energy E \n",
    "                         # and basis function coefficients c of optimized wavefunctions\n",
    "phi = np.dot(basis,c)    # calculate optimized wavefunctions as phi_i = sum_n c_n,i f_n  \n",
    "                         # using matrix product of basis function and coefficient matrices.\n",
    "                         # the wavefunctions phi_i(x) are in the columns of the resulting matrix.\n",
    "print(\"Energy  =\", E)     # print energy eigenvalues (lowest is optimal ground-state energy)\n",
    "print(\"Coefficients =\", c) # print coefficient matrix\n",
    "\n",
    "# calculate exact ground-state wavefunction and energy\n",
    "psi_exact = np.vectorize(psi_pb) # vectorize function to evaluate psi(x) for x vector \n",
    "E_exact = E_pb(a,m,1)\n",
    "print(\"Energy (exact) =\", E_exact)\n",
    "\n",
    "# plot variational and exact ground-state wavefunctions\n",
    "plt.figure()\n",
    "plt.plot(x,-phi[:,0],label='variational')  # variational ground-state wavefunction in\n",
    "                                           # 1st column of phi matrix (minus sign to compare \n",
    "                                           # with exact wavefunction\n",
    "plt.plot(x,psi_exact(x,a,1),'--',label='exact')\n",
    "plt.xlabel('position (a.u.)')\n",
    "plt.ylabel('wavefunction (a.u.)')\n",
    "plt.legend()\n",
    "plt.show()"
   ]
  },
  {
   "cell_type": "markdown",
   "metadata": {},
   "source": [
    "**Question 5:**\n",
    "- How do the variational and exact ground-state wavefunction and energy compare?\n",
    "\n",
    "Answer in the next cell. Make sure that the cell is a \"Markdown\" cell using the drop-down menu at the top of the page."
   ]
  },
  {
   "cell_type": "markdown",
   "metadata": {},
   "source": [
    "**Answer 5 (text):**"
   ]
  },
  {
   "cell_type": "markdown",
   "metadata": {},
   "source": []
  },
  {
   "cell_type": "markdown",
   "metadata": {},
   "source": [
    "### Variational method for orthonormal basis functions"
   ]
  },
  {
   "cell_type": "markdown",
   "metadata": {},
   "source": [
    "In the exercise, the variational method will be used with *orthonormal* basis functions, which involves solving the *ordinary eigenvalue equation* given above."
   ]
  },
  {
   "cell_type": "markdown",
   "metadata": {},
   "source": [
    "Specifically, a *trial wavefunction* $\\phi$ that is a linear combination of *cosine basis functions* that go to zero at $x = \\pm a$,\n",
    "\\begin{equation}\n",
    "f_n = \n",
    "\\begin{cases}\n",
    "\\sqrt{\\frac{1}{a}}\\cos\\left[\\frac{2(n-1)\\pi x}{2a} \\right], & -a \\leq x \\leq a\\\\\n",
    "0, &\\mathrm{otherwise}\n",
    "\\end{cases}, \n",
    "\\end{equation}\n",
    "where $n = 1,2,\\ldots, N$, will be used.\n",
    "This set of basis functions is defined (in a.u.) by the Python function in the next cell. \n",
    "\n",
    "In this case the overlap matrix does not need to be defined and the eigenvalue equation can be solved using the Scipy `eigh` function with a single argument, the Hamiltonian matrix. (Solving the generalized eigenvalue equation will give the same result (within numerical error), because the overlap matrix will be identity matrix for cosine basis functions.)\n",
    "\n",
    "**Run the next cell** to define the basis set."
   ]
  },
  {
   "cell_type": "code",
   "execution_count": null,
   "metadata": {},
   "outputs": [],
   "source": [
    "def cosine_basis(x,N,a):\n",
    "    \"\"\"Returns set of normalized cosine basis function   \n",
    "    n = 1,2,...,N, for x values in the 1D array x, \n",
    "    as a 2D array with different basis functions in columns and \n",
    "    different x values in rows.\"\"\"\n",
    "    for n in range(1,N+1):\n",
    "        fn = np.array([math.cos((2.*n-1.)*math.pi*xi/(2.*a)) for xi in x])\n",
    "        fn = fn*math.sqrt(1./a)\n",
    "        if n == 1:\n",
    "            basis_fns = fn\n",
    "        else:\n",
    "            basis_fns = np.vstack((basis_fns,fn)) # stack basis functions vs x in rows of 2D array\n",
    "    return basis_fns.T # return transpose of matrix so basis function are in columns"
   ]
  },
  {
   "cell_type": "markdown",
   "metadata": {},
   "source": [
    "#### Double-well potential"
   ]
  },
  {
   "cell_type": "markdown",
   "metadata": {},
   "source": [
    "**Question 6:**\n",
    "- Using the code above for the particle-in-a-box as a template, write code to use the variational method with the cosine series basis set defined above to calculate the ground-state energy and plot the ground-state wavefunction of the symmetric double well with potential energy $(x) = \\frac{b^2}{4d} - bx^2 + dx^4$.\n",
    "- Plot the ground-state wavefunction for the symmetric double well for mass $m =1$ and parameters $b = 3$ and $d = 0.15$ (in a.u.) on the same graph as the converged ground-state wavefunction for the same system calculated previously with the finite-difference method. You may need to change the sign of one of the wavefunction to compare. Use the same number of grid points and range $x$ values that you used for the corresponding finite-difference calculation. \n",
    "- Plot the approximate ground-state energy from the variational method versus number of basis functions, $N$.\n",
    "- What do you notice about the approximate energy and wavefunction as the number of basis functions is increased? Are these results consistent with the variational principle?\n",
    "- Determine the number of basis functions, $N$, required in the variational method to converge energy to within 1\\% of the converged ground-state energy calculated previously using the finite-difference method.\n",
    "\n",
    "Give text answers in the following cell. Make sure that the cell is a \"Markdown\" cell using the drop-down menu at the top of the page."
   ]
  },
  {
   "cell_type": "markdown",
   "metadata": {},
   "source": [
    "**Answer 6 (code):**"
   ]
  },
  {
   "cell_type": "code",
   "execution_count": null,
   "metadata": {},
   "outputs": [],
   "source": []
  },
  {
   "cell_type": "markdown",
   "metadata": {},
   "source": [
    "**Answer 6 (text):**"
   ]
  },
  {
   "cell_type": "markdown",
   "metadata": {},
   "source": []
  }
 ],
 "metadata": {
  "kernelspec": {
   "display_name": "Python 3 (ipykernel)",
   "language": "python",
   "name": "python3"
  },
  "language_info": {
   "codemirror_mode": {
    "name": "ipython",
    "version": 3
   },
   "file_extension": ".py",
   "mimetype": "text/x-python",
   "name": "python",
   "nbconvert_exporter": "python",
   "pygments_lexer": "ipython3",
   "version": "3.10.13"
  }
 },
 "nbformat": 4,
 "nbformat_minor": 4
}
