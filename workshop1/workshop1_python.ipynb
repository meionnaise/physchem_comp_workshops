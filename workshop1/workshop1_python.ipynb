{
  "cells": [
    {
      "cell_type": "markdown",
      "metadata": {
        "id": "x_96fPAeok0D"
      },
      "source": [
        "$x={-b \\pm \\sqrt{b^2 - 4ac} \\over 2a}$ for\n",
        "$ax^2 + bx + c = 0$"
      ]
    },
    {
      "cell_type": "markdown",
      "metadata": {
        "id": "sAgBjOM0ok0F"
      },
      "source": [
        "# Python Basics"
      ]
    },
    {
      "cell_type": "markdown",
      "metadata": {
        "id": "vmLKkI4Qok0G"
      },
      "source": [
        "Library – Python uses libraries to enable users to perform tasks without writing codes from scratch. The libraries that are used in the Workshop are Math, Numpy and Matplotlib. Scipy is another useful library for scientific computing."
      ]
    },
    {
      "cell_type": "markdown",
      "metadata": {
        "id": "bA9GY7atok0H"
      },
      "source": [
        "## 1. Math – https://docs.python.org/3/library/math.html"
      ]
    },
    {
      "cell_type": "markdown",
      "metadata": {
        "id": "eyHTCfEcwwUx"
      },
      "source": [
        "### Example 1a\n",
        "```python\n",
        "from math import factorial\n",
        "factorial(20)\n",
        "```\n",
        "\n",
        "### Example 1b\n",
        "```python\n",
        "import math\n",
        "math.factorial(20)\n",
        "```"
      ]
    },
    {
      "cell_type": "code",
      "execution_count": null,
      "metadata": {
        "id": "oBzju0u-ok0I"
      },
      "outputs": [],
      "source": []
    },
    {
      "cell_type": "code",
      "execution_count": null,
      "metadata": {
        "id": "Ad0jc_ADok0I"
      },
      "outputs": [],
      "source": []
    },
    {
      "cell_type": "markdown",
      "metadata": {
        "id": "G-cf30VM0yHc"
      },
      "source": [
        "Example 1c – a short Python script to calculate using an equation\n",
        "\n",
        "$k = Ae^{-E_a \\over {RT}}$\n",
        "\n",
        "${\\ln} k = {\\ln} A - {E_a \\over {RT}}$\n",
        "\n",
        "${E_a \\over {RT}} = {\\ln} A - {\\ln} k$\n",
        "\n",
        "${E_a} = {RT}({\\ln} A - {\\ln} k)$"
      ]
    },
    {
      "cell_type": "code",
      "execution_count": null,
      "metadata": {
        "colab": {
          "base_uri": "https://localhost:8080/"
        },
        "id": "v0iPkPfhok0K",
        "outputId": "39c30328-e3e8-4f3c-938c-8005470881aa"
      },
      "outputs": [
        {
          "name": "stdout",
          "output_type": "stream",
          "text": [
            "The activation energy = 273002.0785401358 J mol⁻¹\n"
          ]
        }
      ],
      "source": [
        "import math\n",
        "R = 8.314 #in J per mol per K\n",
        "T = 750 #in K\n",
        "A = 1.86e15 #in per sec\n",
        "k = 0.00018 #in per sec\n",
        "\n",
        "Ea = R * T * (math.log(A) - math.log(k))\n",
        "\n",
        "print (\"The activation energy = \" + str(Ea) + \" J mol\" + u'\\u207B\\u00B9')"
      ]
    },
    {
      "cell_type": "markdown",
      "metadata": {
        "id": "BxEO_2Ryok0K"
      },
      "source": [
        "### Question 1\n",
        "\n",
        "(a) Write a script using math.factorial, math.log to calculate ${\\ln} n!$, where $n$ is a 2-digit number of your choice.\n"
      ]
    },
    {
      "cell_type": "code",
      "execution_count": null,
      "metadata": {
        "colab": {
          "base_uri": "https://localhost:8080/"
        },
        "id": "AZ2uJCv2ok0K",
        "outputId": "fdd79f53-4b7c-4716-cd0c-fb71f837a173"
      },
      "outputs": [
        {
          "name": "stdout",
          "output_type": "stream",
          "text": [
            "ln(n!) = 226.191\n"
          ]
        }
      ],
      "source": [
        "from math import factorial, log\n",
        "\n",
        "n = 69\n",
        "\n",
        "result = log(factorial(n))\n",
        "\n",
        "print(f\"ln(n!) = {result:.3f}\")"
      ]
    },
    {
      "cell_type": "markdown",
      "metadata": {
        "id": "vTY37Tppok0K"
      },
      "source": [
        "(b) Copy the script above and add a line in your script to use the equation of Stirling’s approximation to calculate ${\\ln} n!$"
      ]
    },
    {
      "cell_type": "code",
      "execution_count": null,
      "metadata": {
        "colab": {
          "base_uri": "https://localhost:8080/"
        },
        "id": "ag7UihePok0L",
        "outputId": "4d72797d-30af-4081-f284-019a39105ecb"
      },
      "outputs": [
        {
          "name": "stdout",
          "output_type": "stream",
          "text": [
            "ln(n!) ~ 223.153\n"
          ]
        }
      ],
      "source": [
        "from math import factorial, log\n",
        "\n",
        "n = 69\n",
        "\n",
        "stirlings_result = (n * log(n)) - n\n",
        "\n",
        "print(f\"ln(n!) ~ {stirlings_result:.3f}\")"
      ]
    },
    {
      "cell_type": "markdown",
      "metadata": {
        "id": "W5_uAEf6ok0L"
      },
      "source": [
        "(c) Add another line to calculate the difference between the real value (a) and the approximated value. Calculate the %difference, which is the difference/real value * 100%."
      ]
    },
    {
      "cell_type": "code",
      "execution_count": null,
      "metadata": {
        "colab": {
          "base_uri": "https://localhost:8080/"
        },
        "id": "J-dztwORok0M",
        "outputId": "9781c8b7-0c5a-4ae7-cf37-4b652ffc4162"
      },
      "outputs": [
        {
          "name": "stdout",
          "output_type": "stream",
          "text": [
            "%diff = 1.343\n"
          ]
        }
      ],
      "source": [
        "from math import factorial, log\n",
        "\n",
        "n = 69\n",
        "\n",
        "result = log(factorial(n))\n",
        "stirlings_result = (n * log(n)) - n\n",
        "perc_diff = 100 * abs(result - stirlings_result) / result\n",
        "\n",
        "print(f\"%diff = {perc_diff:.3f}\")"
      ]
    },
    {
      "cell_type": "markdown",
      "metadata": {
        "id": "RNe9E5PVok0M"
      },
      "source": [
        "(d) Add two lines to print the following statements.\n",
        "\n",
        "${\\ln} n!$ is (the real value) and approximately (the approximated value) according to Stirling’s approximation.\n",
        "\n",
        "The difference is (%difference) of the real value."
      ]
    },
    {
      "cell_type": "code",
      "execution_count": null,
      "metadata": {
        "colab": {
          "base_uri": "https://localhost:8080/"
        },
        "id": "Y4Jfx1zfok0N",
        "outputId": "9fb70eda-e0af-42f1-9300-9ed8a3ee5e68"
      },
      "outputs": [
        {
          "name": "stdout",
          "output_type": "stream",
          "text": [
            "ln(n!) is 226.191 and approximately 223.153 according to Stirling's approximation.\n",
            "The difference is 1.343% of the real value.\n"
          ]
        }
      ],
      "source": [
        "from math import factorial, log\n",
        "\n",
        "n = 69\n",
        "\n",
        "result = log(factorial(n))\n",
        "stirlings_result = (n * log(n)) - n\n",
        "perc_diff = 100 * abs(result - stirlings_result) / result\n",
        "\n",
        "print(f\"ln(n!) is {result:.3f} and approximately {stirlings_result:.3f} according to Stirling's approximation.\\nThe difference is {perc_diff:.3f}% of the real value.\")"
      ]
    },
    {
      "cell_type": "markdown",
      "metadata": {
        "id": "76Xlu9ZSok0N"
      },
      "source": [
        "(e) Starting from (a) to (d), perform the tasks for (i) ${\\ln} 100!$ and (ii) ${\\ln}10000!$"
      ]
    },
    {
      "cell_type": "code",
      "execution_count": null,
      "metadata": {
        "colab": {
          "base_uri": "https://localhost:8080/"
        },
        "id": "xTS1GKYdok0N",
        "outputId": "79ffbaa5-653a-4128-df69-1d7dd77f626d"
      },
      "outputs": [
        {
          "name": "stdout",
          "output_type": "stream",
          "text": [
            "ln(n!) is 363.739 and approximately 360.517 according to Stirling's approximation.\n",
            "The difference is 0.886% of the real value.\n"
          ]
        }
      ],
      "source": [
        "from math import factorial, log\n",
        "\n",
        "n = 100\n",
        "\n",
        "result = log(factorial(n))\n",
        "stirlings_result = (n * log(n)) - n\n",
        "perc_diff = 100 * abs(result - stirlings_result) / result\n",
        "\n",
        "print(f\"ln(n!) is {result:.3f} and approximately {stirlings_result:.3f} according to Stirling's approximation.\\nThe difference is {perc_diff:.3f}% of the real value.\")"
      ]
    },
    {
      "cell_type": "code",
      "execution_count": null,
      "metadata": {
        "colab": {
          "base_uri": "https://localhost:8080/"
        },
        "id": "_9EBrhStok0O",
        "outputId": "681ce3ab-0a71-436b-be35-5c384fd325ec"
      },
      "outputs": [
        {
          "name": "stdout",
          "output_type": "stream",
          "text": [
            "ln(n!) is 82108.928 and approximately 82103.404 according to Stirling's approximation.\n",
            "The difference is 0.007% of the real value.\n"
          ]
        }
      ],
      "source": [
        "from math import factorial, log\n",
        "\n",
        "n = 10000\n",
        "\n",
        "result = log(factorial(n))\n",
        "stirlings_result = (n * log(n)) - n\n",
        "perc_diff = 100 * abs(result - stirlings_result) / result\n",
        "\n",
        "print(f\"ln(n!) is {result:.3f} and approximately {stirlings_result:.3f} according to Stirling's approximation.\\nThe difference is {perc_diff:.3f}% of the real value.\")"
      ]
    },
    {
      "cell_type": "markdown",
      "metadata": {
        "id": "wdSi-Zyzok0O"
      },
      "source": [
        "## 2. Numpy – https://numpy.org/doc/stable"
      ]
    },
    {
      "cell_type": "markdown",
      "metadata": {
        "id": "b5ET5T8Z01sF"
      },
      "source": [
        "###Example 2a – array\n",
        "```python\n",
        "import numpy as np\n",
        "a = np.array([1,2,3,4,5,6])\n",
        "print(\"My first Python array is \" + str(a))\n",
        "```\n",
        "\n",
        "###Example 2b – linearly spaced array\n",
        "```python\n",
        "import numpy as np\n",
        "b = np.linspace(0,50,51)\n",
        "print(\"My first linearly spaced array in Python is \" + str(a))\n",
        "```\n",
        "\n",
        "###Example 2c – zeros & ones\n",
        "```python\n",
        "import numpy as np\n",
        "c = np.zeros(5)\n",
        "d = np.ones(5)\n",
        "print(str(c) + str(d))\n",
        "```\n",
        "\n",
        "\n",
        "In your pre-workshop exercise, there is an example (In [34]) showing how square values can be calculated. In Python, exponents are expressed using \\*\\* (note that numpy is not needed for \\*\\* as it is a basic function). For example, 2\\*\\*2 is 4 (try it) and 3\\*\\*3 is 27."
      ]
    },
    {
      "cell_type": "code",
      "execution_count": null,
      "metadata": {
        "colab": {
          "base_uri": "https://localhost:8080/"
        },
        "id": "HPGxR4vuok0P",
        "outputId": "c71192c0-16a2-417e-fb3f-15c38e711c85"
      },
      "outputs": [
        {
          "name": "stdout",
          "output_type": "stream",
          "text": [
            "4\n",
            "27\n"
          ]
        }
      ],
      "source": [
        "print(2 ** 2)\n",
        "print(3 ** 3)"
      ]
    },
    {
      "cell_type": "markdown",
      "metadata": {
        "id": "V_IRECPBok0P"
      },
      "source": [
        "### Question 2\n",
        "\n",
        "(a) Use numpy to create a linearly space array of even numbers ranging from 0 to 50 (i.e., [0. 2. 4. 6. …… 50.]. Show your work."
      ]
    },
    {
      "cell_type": "code",
      "execution_count": null,
      "metadata": {
        "colab": {
          "base_uri": "https://localhost:8080/"
        },
        "id": "kmYzlLaeok0P",
        "outputId": "faa22f63-4ff4-4ec0-f88e-379f6dc1f4ab"
      },
      "outputs": [
        {
          "name": "stdout",
          "output_type": "stream",
          "text": [
            "[ 0.  2.  4.  6.  8. 10. 12. 14. 16. 18. 20. 22. 24. 26. 28. 30. 32. 34.\n",
            " 36. 38. 40. 42. 44. 46. 48. 50.]\n"
          ]
        }
      ],
      "source": [
        "import numpy as np\n",
        "start = 0\n",
        "stop = 50\n",
        "num_values = int((stop / 2) + 1)\n",
        "result = np.linspace(start, stop, num_values)\n",
        "print(result)"
      ]
    },
    {
      "cell_type": "markdown",
      "metadata": {
        "id": "dUOljjFVok0Q"
      },
      "source": [
        "(b) Use numpy to create an array of 51 ones. Then, add this array to Array b (from Example 2b) to form a new array that ranges from 1 to 51 (i.e., [1. 2. 3. 4. …… 51.]. Show your work."
      ]
    },
    {
      "cell_type": "code",
      "execution_count": null,
      "metadata": {
        "colab": {
          "base_uri": "https://localhost:8080/"
        },
        "id": "r1ySpyQtok0Q",
        "outputId": "708b8446-00f3-4064-8c35-33c19d471944"
      },
      "outputs": [
        {
          "name": "stdout",
          "output_type": "stream",
          "text": [
            "[ 1.  2.  3.  4.  5.  6.  7.  8.  9. 10. 11. 12. 13. 14. 15. 16. 17. 18.\n",
            " 19. 20. 21. 22. 23. 24. 25. 26. 27. 28. 29. 30. 31. 32. 33. 34. 35. 36.\n",
            " 37. 38. 39. 40. 41. 42. 43. 44. 45. 46. 47. 48. 49. 50. 51.]\n"
          ]
        }
      ],
      "source": [
        "import numpy as np\n",
        "a = np.ones(51)\n",
        "b = np.linspace(0,50,51)\n",
        "result = a + b\n",
        "print(result)"
      ]
    },
    {
      "cell_type": "markdown",
      "metadata": {
        "id": "XPnneg_uok0Q"
      },
      "source": [
        "(c) Use the \\*\\* function to create a new array with values that are squares of those of Array b, i.e., [0. 1. 4. 9. 16. …… 2500.]. Show your work.\n",
        "\n"
      ]
    },
    {
      "cell_type": "code",
      "execution_count": null,
      "metadata": {
        "colab": {
          "base_uri": "https://localhost:8080/"
        },
        "id": "Cx-hPTMCok0Q",
        "outputId": "46637fd6-f2e0-45f1-ced8-d6315d302094"
      },
      "outputs": [
        {
          "name": "stdout",
          "output_type": "stream",
          "text": [
            "[0.000e+00 1.000e+00 4.000e+00 9.000e+00 1.600e+01 2.500e+01 3.600e+01\n",
            " 4.900e+01 6.400e+01 8.100e+01 1.000e+02 1.210e+02 1.440e+02 1.690e+02\n",
            " 1.960e+02 2.250e+02 2.560e+02 2.890e+02 3.240e+02 3.610e+02 4.000e+02\n",
            " 4.410e+02 4.840e+02 5.290e+02 5.760e+02 6.250e+02 6.760e+02 7.290e+02\n",
            " 7.840e+02 8.410e+02 9.000e+02 9.610e+02 1.024e+03 1.089e+03 1.156e+03\n",
            " 1.225e+03 1.296e+03 1.369e+03 1.444e+03 1.521e+03 1.600e+03 1.681e+03\n",
            " 1.764e+03 1.849e+03 1.936e+03 2.025e+03 2.116e+03 2.209e+03 2.304e+03\n",
            " 2.401e+03 2.500e+03]\n"
          ]
        }
      ],
      "source": [
        "import numpy as np\n",
        "a = np.ones(51)\n",
        "b = np.linspace(0,50,51)\n",
        "qb_result = a + b\n",
        "qc_result = b ** 2\n",
        "print(qc_result)"
      ]
    },
    {
      "cell_type": "markdown",
      "metadata": {
        "id": "6THWpg1Wok0R"
      },
      "source": [
        "## 3. Matplotlib – https://matplotlib.org/stable/index.html"
      ]
    },
    {
      "cell_type": "markdown",
      "metadata": {
        "id": "0eQW_uje07T-"
      },
      "source": [
        "###Example 3a – making a linear plot\n",
        "```python\n",
        "import numpy as np\n",
        "b = np.linspace(0,50,51)\n",
        "c = b\n",
        "import matplotlib.pyplot as plt\n",
        "plt.figure(figsize=(8,6))\n",
        "plt.plot(b,c,'o',label=\"linear\")\n",
        "plt.xlabel(\"x\")\n",
        "plt.ylabel(\"y\")\n",
        "plt.legend()\n",
        "```"
      ]
    },
    {
      "cell_type": "code",
      "execution_count": null,
      "metadata": {
        "colab": {
          "base_uri": "https://localhost:8080/",
          "height": 560
        },
        "id": "Q4bGcwqbok0R",
        "outputId": "8e7a8d30-d51b-4cf2-cc78-951b00f76418"
      },
      "outputs": [
        {
          "data": {
            "text/plain": [
              "<matplotlib.legend.Legend at 0x7da11a740760>"
            ]
          },
          "execution_count": 23,
          "metadata": {},
          "output_type": "execute_result"
        },
        {
          "data": {
            "image/png": "[encoded data removed]",
            "text/plain": [
              "<Figure size 800x600 with 1 Axes>"
            ]
          },
          "metadata": {},
          "output_type": "display_data"
        }
      ],
      "source": [
        "import numpy as np\n",
        "b = np.linspace(0,50,51)\n",
        "c = b\n",
        "import matplotlib.pyplot as plt\n",
        "plt.figure(figsize=(8,6))\n",
        "plt.plot(b,c,'o',label=\"linear\")\n",
        "plt.xlabel(\"x\")\n",
        "plt.ylabel(\"y\")\n",
        "plt.legend()"
      ]
    },
    {
      "cell_type": "markdown",
      "metadata": {
        "id": "8cBTucJP1ARr"
      },
      "source": [
        "Spot the difference – rerun the code above by replacing line 6 with:\n",
        "\n",
        "1.\n",
        "```python\n",
        "plt.plot(b,c,'o-',label=\"linear\")\n",
        "```\n",
        "\n",
        "2.\n",
        "```python\n",
        "plt.plot(b,c,'ro-',label=\"linear\")\n",
        "```\n",
        "\n",
        "3.\n",
        "```python\n",
        "plt.plot(b,c,'gx',label=\"linear\")\n",
        "```"
      ]
    },
    {
      "cell_type": "code",
      "execution_count": null,
      "metadata": {
        "colab": {
          "base_uri": "https://localhost:8080/",
          "height": 560
        },
        "id": "jqmFiyzmok0S",
        "outputId": "91d88ee5-69d2-4bdd-9c15-b9201f355113"
      },
      "outputs": [
        {
          "data": {
            "text/plain": [
              "<matplotlib.legend.Legend at 0x7da11a42cee0>"
            ]
          },
          "execution_count": 24,
          "metadata": {},
          "output_type": "execute_result"
        },
        {
          "data": {
            "image/png": "[encoded data removed]",
            "text/plain": [
              "<Figure size 800x600 with 1 Axes>"
            ]
          },
          "metadata": {},
          "output_type": "display_data"
        }
      ],
      "source": [
        "import numpy as np\n",
        "b = np.linspace(0,50,51)\n",
        "c = b\n",
        "import matplotlib.pyplot as plt\n",
        "plt.figure(figsize=(8,6))\n",
        "plt.plot(b,c,'o-',label=\"linear\")\n",
        "plt.xlabel(\"x\")\n",
        "plt.ylabel(\"y\")\n",
        "plt.legend()"
      ]
    },
    {
      "cell_type": "code",
      "execution_count": null,
      "metadata": {
        "colab": {
          "base_uri": "https://localhost:8080/",
          "height": 560
        },
        "id": "tUqU8BuLok0S",
        "outputId": "30777b3b-f1ec-4318-eced-1c23df4e2c34"
      },
      "outputs": [
        {
          "data": {
            "text/plain": [
              "<matplotlib.legend.Legend at 0x7da11a2ae8c0>"
            ]
          },
          "execution_count": 25,
          "metadata": {},
          "output_type": "execute_result"
        },
        {
          "data": {
            "image/png": "[encoded data removed]",
            "text/plain": [
              "<Figure size 800x600 with 1 Axes>"
            ]
          },
          "metadata": {},
          "output_type": "display_data"
        }
      ],
      "source": [
        "import numpy as np\n",
        "b = np.linspace(0,50,51)\n",
        "c = b\n",
        "import matplotlib.pyplot as plt\n",
        "plt.figure(figsize=(8,6))\n",
        "plt.plot(b,c,'ro-',label=\"linear\")\n",
        "plt.xlabel(\"x\")\n",
        "plt.ylabel(\"y\")\n",
        "plt.legend()"
      ]
    },
    {
      "cell_type": "code",
      "execution_count": null,
      "metadata": {
        "colab": {
          "base_uri": "https://localhost:8080/",
          "height": 560
        },
        "id": "T058E8fLok0S",
        "outputId": "df3b98b6-cb1a-40d1-aede-ca8c8e2caff5"
      },
      "outputs": [
        {
          "data": {
            "text/plain": [
              "<matplotlib.legend.Legend at 0x7da117f4ebf0>"
            ]
          },
          "execution_count": 26,
          "metadata": {},
          "output_type": "execute_result"
        },
        {
          "data": {
            "image/png": "[encoded data removed]",
            "text/plain": [
              "<Figure size 800x600 with 1 Axes>"
            ]
          },
          "metadata": {},
          "output_type": "display_data"
        }
      ],
      "source": [
        "import numpy as np\n",
        "b = np.linspace(0,50,51)\n",
        "c = b\n",
        "import matplotlib.pyplot as plt\n",
        "plt.figure(figsize=(8,6))\n",
        "plt.plot(b,c,'gx',label=\"linear\")\n",
        "plt.xlabel(\"x\")\n",
        "plt.ylabel(\"y\")\n",
        "plt.legend()"
      ]
    },
    {
      "cell_type": "markdown",
      "metadata": {
        "id": "z977L4yTok0S"
      },
      "source": [
        "### Question 3\n",
        "(a) The plot above has a slope of 1. Modify the codes above to make a plot with a slope of 2. Make the size of the plot 10,10. Label the x-axis as “Number” and y-axis as “Intensity”. Show the data points as magenta crosses and connect the data points using a dotted line. Provide a legend that states “Magenta linear dots”."
      ]
    },
    {
      "cell_type": "code",
      "execution_count": null,
      "metadata": {
        "colab": {
          "base_uri": "https://localhost:8080/",
          "height": 868
        },
        "id": "TrrL5P48ok0S",
        "outputId": "77798c74-3777-4a1b-a2d5-d8bbdee34a06"
      },
      "outputs": [
        {
          "data": {
            "text/plain": [
              "<matplotlib.legend.Legend at 0x7da117eb2e30>"
            ]
          },
          "execution_count": 31,
          "metadata": {},
          "output_type": "execute_result"
        },
        {
          "data": {
            "image/png": "[encoded data removed]",
            "text/plain": [
              "<Figure size 1000x1000 with 1 Axes>"
            ]
          },
          "metadata": {},
          "output_type": "display_data"
        }
      ],
      "source": [
        "import numpy as np\n",
        "b = np.linspace(0,50,51)\n",
        "c = 2 * b\n",
        "import matplotlib.pyplot as plt\n",
        "plt.figure(figsize=(10,10))\n",
        "plt.plot(b,c, \"mx\", linestyle = \"--\",label=\"linear\")\n",
        "plt.xlabel(\"x\")\n",
        "plt.ylabel(\"y\")\n",
        "plt.legend(\"Magenta linear dots\")"
      ]
    },
    {
      "cell_type": "markdown",
      "metadata": {
        "id": "77_O81r81EK6"
      },
      "source": [
        "###Example 3b – loading data to make a plot\n",
        "Download the files abs.csv & fluor.csv and upload them to this working directory.\n",
        "\n",
        "```python\n",
        "import pandas as pd\n",
        "dataframe = pd.read_csv(\"abs.csv\", header=None)\n",
        "data = dataframe.values\n",
        "x, y = data[:,0], data[:,1]\n",
        "import matplotlib.pyplot as plt\n",
        "plt.figure(figsize=(8,6))\n",
        "plt.plot(x,y,'b-',label=\"Abs\")\n",
        "plt.xlabel(\"x\")\n",
        "plt.ylabel(\"y\")\n",
        "plt.legend()\n",
        "```"
      ]
    },
    {
      "cell_type": "code",
      "execution_count": 1,
      "metadata": {
        "colab": {
          "base_uri": "https://localhost:8080/",
          "height": 382
        },
        "id": "Xha7Kn-cok0S",
        "outputId": "4eba60ae-3a58-4490-f56a-fbd24343c1a6"
      },
      "outputs": [
        {
          "data": {
            "text/plain": [
              "<matplotlib.legend.Legend at 0x7fd199d77700>"
            ]
          },
          "execution_count": 1,
          "metadata": {},
          "output_type": "execute_result"
        },
        {
          "data": {
            "image/png": "[encoded data removed]",
            "text/plain": [
              "<Figure size 800x600 with 1 Axes>"
            ]
          },
          "metadata": {},
          "output_type": "display_data"
        }
      ],
      "source": [
        "import pandas as pd\n",
        "dataframe = pd.read_csv(\"abs.csv\", header=None)\n",
        "data = dataframe.values\n",
        "x, y = data[:,0], data[:,1]\n",
        "import matplotlib.pyplot as plt\n",
        "plt.figure(figsize=(8,6))\n",
        "plt.plot(x,y,'b-',label=\"Abs\")\n",
        "plt.xlabel(\"x\")\n",
        "plt.ylabel(\"y\")\n",
        "plt.legend()"
      ]
    },
    {
      "cell_type": "markdown",
      "metadata": {
        "id": "evENlThjok0T"
      },
      "source": [
        "Note the maximum y-value of this plot. Now replace the 4th line with:*italicized text*\n",
        "```python\n",
        "x, y = data[:,0], data[:,1]/max(data[:,1])\n",
        "```"
      ]
    },
    {
      "cell_type": "code",
      "execution_count": 2,
      "metadata": {
        "id": "gNZBY9Ugok0T"
      },
      "outputs": [
        {
          "data": {
            "text/plain": [
              "<matplotlib.legend.Legend at 0x7fd199c1c760>"
            ]
          },
          "execution_count": 2,
          "metadata": {},
          "output_type": "execute_result"
        },
        {
          "data": {
            "image/png": "[encoded data removed]",
            "text/plain": [
              "<Figure size 800x600 with 1 Axes>"
            ]
          },
          "metadata": {},
          "output_type": "display_data"
        }
      ],
      "source": [
        "import pandas as pd\n",
        "dataframe = pd.read_csv(\"abs.csv\", header=None)\n",
        "data = dataframe.values\n",
        "x, y = data[:,0], data[:,1]/max(data[:,1])\n",
        "import matplotlib.pyplot as plt\n",
        "plt.figure(figsize=(8,6))\n",
        "plt.plot(x,y,'b-',label=\"Abs\")\n",
        "plt.xlabel(\"x\")\n",
        "plt.ylabel(\"y\")\n",
        "plt.legend()"
      ]
    },
    {
      "cell_type": "markdown",
      "metadata": {
        "id": "j6DMLktt1LZY"
      },
      "source": [
        "What is the difference with this modification? What does the max function do?"
      ]
    },
    {
      "cell_type": "markdown",
      "metadata": {
        "id": "gVsj9cujok0T"
      },
      "source": [
        "*Your* comments:"
      ]
    },
    {
      "cell_type": "code",
      "execution_count": null,
      "metadata": {
        "id": "aRuZM2ahok0T"
      },
      "outputs": [],
      "source": [
        "#Normalises the curve so that max value is 1"
      ]
    },
    {
      "cell_type": "markdown",
      "metadata": {
        "id": "IrzX5_SPok0T"
      },
      "source": [
        "Next, remove\n",
        "```python\n",
        "/max(data[:,1])\n",
        "```\n",
        "from the line, replace _abs.csv_ with _fluor.csv_, label the plot _“Fluor”_ and run the code."
      ]
    },
    {
      "cell_type": "code",
      "execution_count": null,
      "metadata": {
        "id": "q_8Py6wrok0T"
      },
      "outputs": [],
      "source": []
    },
    {
      "cell_type": "markdown",
      "metadata": {
        "id": "OVlY43_1ok0T"
      },
      "source": [
        "Once again, note the maximum y-value and use the max function on the y-data of _fluor.csv_"
      ]
    },
    {
      "cell_type": "code",
      "execution_count": null,
      "metadata": {
        "id": "TqANlYduok0U"
      },
      "outputs": [],
      "source": []
    },
    {
      "cell_type": "markdown",
      "metadata": {
        "id": "BvmmVLRPok0U"
      },
      "source": [
        "Question 3(b) Plot both sets of data with a y-maximum of 1 in one plot by using the hints below.\n",
        "\n",
        "(i) Use two distinct variables (e.g. dataframe1 & dataframe2) to name the strings from abs.csv and fluor.csv\n",
        "(ii) use the same approach for the next step, which defines the values of the read strings\n",
        "(iii) define the additional x, y values (e.g. x2, y2)\n",
        "(iv) make the y-maximum value 1 using the example above\n",
        "(v) add an additional line to add the second set of data, e.g. plt.plot(x2,y2,'r-',label=\"Fluor\")\n",
        "(vi) Make the absorption curve blue (solid line) and fluorescence curve red\n",
        "(vii) Label the x-axis as “Wavelength (nm)” and y-axis as “Normalised absorbance or fluorescence."
      ]
    },
    {
      "cell_type": "code",
      "execution_count": null,
      "metadata": {
        "id": "0S6KThbnok0U"
      },
      "outputs": [],
      "source": []
    },
    {
      "cell_type": "markdown",
      "metadata": {
        "id": "E04u5zkdok0U"
      },
      "source": [
        "Question 3(c) Download carpathite.csv & dawsonite.csv, load them in Python,\n",
        "plot both sets of data (blue and red) with normalised intensity (maximum y-value of 1) in the same plot. Label the y-axis “Normalised intensity” and x-axis “Raman shift (cm$^{-1}$)”"
      ]
    },
    {
      "cell_type": "markdown",
      "metadata": {
        "id": "8ksrP2Me1QkI"
      },
      "source": [
        "Hint: use _(cm$^{-1}$)_ in your x-axis label."
      ]
    },
    {
      "cell_type": "code",
      "execution_count": null,
      "metadata": {
        "id": "wKKlmm7nok0V"
      },
      "outputs": [],
      "source": []
    },
    {
      "cell_type": "markdown",
      "metadata": {
        "id": "CkIs0ollok0V"
      },
      "source": [
        "## 4. Scipy – https://www.scipy.org"
      ]
    },
    {
      "cell_type": "markdown",
      "metadata": {
        "id": "b0hMrYRr1T5J"
      },
      "source": [
        "Example 4a - curve fitting\n",
        "==========================\n",
        "Spend ~10 minutes to understand the code\n",
        "\n",
        "```python\n",
        "import matplotlib.pyplot as plt\n",
        "import numpy as np\n",
        "import scipy.optimize as sp\n",
        "\n",
        "def func(x, a, b, c):\n",
        "    return a * np.exp(-b * x) + c\n",
        "\n",
        "#Generate the data to be fit with some noise:\n",
        "xdata = np.linspace(0, 4, 50)\n",
        "y = func(xdata, 2.5, 1.3, 0.5)\n",
        "np.random.seed(1729)\n",
        "y_noise = 0.1 * np.random.normal(size=xdata.size)\n",
        "ydata = y + y_noise\n",
        "\n",
        "plt.figure(figsize=(8,6))\n",
        "plt.plot(xdata, ydata, 'bo', mfc='none', label='data')\n",
        "\n",
        "#Fit1: fit for the parameters a, b, c of the function func:\n",
        "popt, pcov = sp.curve_fit(func, xdata, ydata)\n",
        "#popt is the array of the optimised values and pcov contains the estimated covariance of popt\n",
        "\n",
        "plt.plot(xdata, func(xdata, *popt), 'r-',\n",
        "         label='fit: a=%.3f, b=%5.3f, c=%5.3f' % tuple(popt))\n",
        "\n",
        "#Fit2: constrain the optimization to the region of 0 <= a <= 3, 0 <= b <= 1 and 0 <= c <= 0.5:\n",
        "popt, pcov = sp.curve_fit(func, xdata, ydata, bounds=([0.0, 0.0, 0.0], [3.0, 1.0, 0.5]))\n",
        "\n",
        "plt.plot(xdata, func(xdata, *popt), 'g--',\n",
        "         label='fit: a=%5.3f, b=%5.3f, c=%5.3f' % tuple(popt))\n",
        "\n",
        "plt.xlabel('x')\n",
        "plt.ylabel('y')\n",
        "plt.legend()\n",
        "plt.show()\n",
        "```"
      ]
    },
    {
      "cell_type": "code",
      "execution_count": null,
      "metadata": {
        "id": "kjRJ3PL3ok0V"
      },
      "outputs": [],
      "source": []
    },
    {
      "cell_type": "markdown",
      "metadata": {
        "id": "QEbcisj-ok0W"
      },
      "source": [
        "### Question 4\n",
        "(a)\n",
        "Generate a code by using the following information.\n",
        "\n",
        "(i) Define a linear function, $ax + b$ (use values other than $a=1$ and/or $b=0$.\n",
        "\n",
        "(ii) Generate data ($x$ ranges from -10 to 10 with 101 points) with some noise (~10% of the maximum $y$ value).\n",
        "\n",
        "(iii) Fit for the parameters $a, b$ of the function func.\n",
        "\n",
        "(iv) Plot the data as red empty circles and fit curve as a black solid curve.\n"
      ]
    },
    {
      "cell_type": "code",
      "execution_count": null,
      "metadata": {
        "id": "JhWBw2vgok0W"
      },
      "outputs": [],
      "source": []
    },
    {
      "cell_type": "markdown",
      "metadata": {
        "id": "schIZAA0ok0W"
      },
      "source": [
        "Question 4(b)\n",
        "Generate a code by using the following information.\n",
        "\n",
        "(i) Use the same linear function as above for this part.\n",
        "\n",
        "(ii) Generate data ($x$ ranges from -10 to 10 with 101 points) with some noise (<span style='color:Red'> only ~1% </span> of the maximum $y$ value).\n",
        "\n",
        "(iii) Fit for the parameters $a, b$ of the function func.\n",
        "\n",
        "(iv) Plot the data as red empty circles and fit curve as a black solid curve.\n",
        "\n"
      ]
    },
    {
      "cell_type": "code",
      "execution_count": null,
      "metadata": {
        "id": "KKSvgWbJok0W"
      },
      "outputs": [],
      "source": []
    },
    {
      "cell_type": "markdown",
      "metadata": {
        "id": "36WBiRPK1Y0f"
      },
      "source": [
        "Provide a brief comment on the effect of less noise on the fit results.\n",
        "\n",
        "Your comment:"
      ]
    },
    {
      "cell_type": "code",
      "execution_count": null,
      "metadata": {
        "id": "BGF0S64Nok0W"
      },
      "outputs": [],
      "source": []
    },
    {
      "cell_type": "markdown",
      "metadata": {
        "id": "g4n2vSH7ok0W"
      },
      "source": [
        "Question 4(c)\n",
        "Generate a code by using the following information.\n",
        "\n",
        "(i) Define a quadratic function using variables $a, b$ and $c$.\n",
        "\n",
        "(ii) Generate data ($x$ ranges from -10 to 10 with 101 points) with some noise (~10% of the maximum $y$ value).\n",
        "\n",
        "(iii) Fit for the parameters $a, b, c$ of the function func.\n",
        "\n",
        "(iv) Plot the data as blue circles and fit curve as a black curve.\n",
        "\n"
      ]
    },
    {
      "cell_type": "code",
      "execution_count": null,
      "metadata": {
        "id": "SNxEmtokok0X"
      },
      "outputs": [],
      "source": []
    }
  ],
  "metadata": {
    "colab": {
      "provenance": []
    },
    "kernelspec": {
      "display_name": "Python 3",
      "language": "python",
      "name": "python3"
    },
    "language_info": {
      "codemirror_mode": {
        "name": "ipython",
        "version": 3
      },
      "file_extension": ".py",
      "mimetype": "text/x-python",
      "name": "python",
      "nbconvert_exporter": "python",
      "pygments_lexer": "ipython3",
      "version": "3.10.13"
    }
  },
  "nbformat": 4,
  "nbformat_minor": 0
}
